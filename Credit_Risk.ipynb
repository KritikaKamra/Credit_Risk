{
 "cells": [
  {
   "cell_type": "code",
   "execution_count": 523,
   "metadata": {
    "collapsed": true
   },
   "outputs": [],
   "source": [
    "import pandas as pd\n",
    "from pandas import Series,DataFrame\n",
    "\n",
    "# numpy, matplotlib, seaborn\n",
    "import numpy as np\n",
    "import matplotlib.pyplot as plt\n",
    "import seaborn as sns\n",
    "sns.set_style('whitegrid')\n",
    "%matplotlib inline\n",
    "\n",
    "# machine learning\n",
    "from sklearn.linear_model import LogisticRegression\n",
    "from sklearn.ensemble import RandomForestClassifier\n",
    "from sklearn.neighbors import KNeighborsClassifier\n",
    "from sklearn.svm import SVC, LinearSVC\n"
   ]
  },
  {
   "cell_type": "code",
   "execution_count": 524,
   "metadata": {
    "collapsed": true
   },
   "outputs": [],
   "source": [
    "train_df = pd.read_csv('Praxis - Retail Banking Data - Train Data.csv')\n",
    "test_df    = pd.read_csv('Praxis - Retail Banking Data - Test Data.csv')\n",
    "submission_df=pd.read_csv('Praxis - Retail Banking Data - Submission Data.csv')\n",
    "\n",
    "\n",
    "\n",
    "\n"
   ]
  },
  {
   "cell_type": "code",
   "execution_count": 525,
   "metadata": {
    "collapsed": true
   },
   "outputs": [],
   "source": [
    "train_df['Securities_Account'] = train_df['Securities_Account'].replace('Yes', 1)\n",
    "train_df['Securities_Account'] = train_df['Securities_Account'].replace('No', 0)\n",
    "train_df['CD_Account'] = train_df['CD_Account'].replace('Yes', 1)\n",
    "train_df['CD_Account'] = train_df['CD_Account'].replace('No', 0)\n",
    "train_df['Online_Services'] = train_df['Online_Services'].replace('Yes', 1)\n",
    "train_df['Online_Services'] = train_df['Online_Services'].replace('No', 0)\n",
    "train_df['CreditCard'] = train_df['CreditCard'].replace('Yes', 1)\n",
    "train_df['CreditCard'] = train_df['CreditCard'].replace('No', 0)\n",
    "train_df['PersonalLoan (prediction)'] = train_df['PersonalLoan (prediction)'].replace('Yes', 1)\n",
    "train_df['PersonalLoan (prediction)'] = train_df['PersonalLoan (prediction)'].replace('No', 0)\n",
    "\n",
    "\n",
    "test_df['Securities_Account'] = test_df['Securities_Account'].replace('Yes', 1)\n",
    "test_df['Securities_Account'] = test_df['Securities_Account'].replace('No', 0)\n",
    "test_df['CD_Account'] = test_df['CD_Account'].replace('Yes', 1)\n",
    "test_df['CD_Account'] = test_df['CD_Account'].replace('No', 0)\n",
    "test_df['Online_Services'] = test_df['Online_Services'].replace('Yes', 1)\n",
    "test_df['Online_Services'] = test_df['Online_Services'].replace('No', 0)\n",
    "test_df['CreditCard'] = test_df['CreditCard'].replace('Yes', 1)\n",
    "test_df['CreditCard'] = test_df['CreditCard'].replace('No', 0)\n",
    "test_df['PersonalLoan'] = test_df['PersonalLoan'].replace('Yes', 1)\n",
    "test_df['PersonalLoan'] = test_df['PersonalLoan'].replace('No', 0)\n",
    "\n",
    "\n",
    "\n",
    "\n",
    "submission_df['Securities_Account'] = submission_df['Securities_Account'].replace('Yes', 1)\n",
    "submission_df['Securities_Account'] = submission_df['Securities_Account'].replace('No', 0)\n",
    "submission_df['CD_Account'] = submission_df['CD_Account'].replace('Yes', 1)\n",
    "submission_df['CD_Account'] = submission_df['CD_Account'].replace('No', 0)\n",
    "submission_df['Online_Services'] = submission_df['Online_Services'].replace('Yes', 1)\n",
    "submission_df['Online_Services'] = submission_df['Online_Services'].replace('No', 0)\n",
    "submission_df['CreditCard'] = submission_df['CreditCard'].replace('Yes', 1)\n",
    "submission_df['CreditCard'] = submission_df['CreditCard'].replace('No', 0)\n",
    "\n",
    "\n"
   ]
  },
  {
   "cell_type": "code",
   "execution_count": 526,
   "metadata": {
    "collapsed": true
   },
   "outputs": [],
   "source": [
    "drop_elements = ['Age', 'Work_Exp', 'FamilySize', 'ZIP', 'Online_Services','CreditCard','SavingsID','Securities_Account']\n",
    "train_df = train_df.drop(drop_elements, axis = 1)\n"
   ]
  },
  {
   "cell_type": "code",
   "execution_count": 527,
   "metadata": {
    "collapsed": true
   },
   "outputs": [],
   "source": [
    "drop_elements = ['Age', 'Work_Exp', 'FamilySize', 'ZIP', 'Online_Services','CreditCard','SavingsID','Securities_Account']\n",
    "test_df = test_df.drop(drop_elements, axis = 1)\n"
   ]
  },
  {
   "cell_type": "code",
   "execution_count": 528,
   "metadata": {
    "collapsed": true
   },
   "outputs": [],
   "source": [
    "drop_elements = ['Age', 'Work_Exp', 'FamilySize', 'ZIP', 'Online_Services','CreditCard','Securities_Account']\n",
    "submission_df = submission_df.drop(drop_elements, axis = 1)"
   ]
  },
  {
   "cell_type": "code",
   "execution_count": 529,
   "metadata": {
    "collapsed": true
   },
   "outputs": [],
   "source": [
    "s=[]\n",
    "for i in (train_df['Edu_Level']):\n",
    "    if i=='Higher Secondary':\n",
    "        s.append(0)\n",
    "    else:\n",
    "        s.append(1)\n",
    "k= pd.Series(s)\n",
    "train_df['Graduated']=k.values"
   ]
  },
  {
   "cell_type": "code",
   "execution_count": 530,
   "metadata": {
    "collapsed": true
   },
   "outputs": [],
   "source": [
    "s=[]\n",
    "for i in (test_df['Edu_Level']):\n",
    "    if i=='Higher Secondary':\n",
    "        s.append(0)\n",
    "    else:\n",
    "        s.append(1)\n",
    "k= pd.Series(s)\n",
    "test_df['Graduated']=k.values\n",
    "\n",
    "\n",
    "\n",
    "s=[]\n",
    "for i in (submission_df['Edu_Level']):\n",
    "    if i=='Higher Secondary':\n",
    "        s.append(0)\n",
    "    else:\n",
    "        s.append(1)\n",
    "k= pd.Series(s)\n",
    "submission_df['Graduated']=k.values\n"
   ]
  },
  {
   "cell_type": "code",
   "execution_count": null,
   "metadata": {
    "collapsed": true
   },
   "outputs": [],
   "source": []
  },
  {
   "cell_type": "raw",
   "metadata": {},
   "source": [
    "train_df = train_df.drop('Edu_Level', axis = 1)\n",
    "test_df = test_df.drop('Edu_Level', axis = 1)\n"
   ]
  },
  {
   "cell_type": "code",
   "execution_count": 531,
   "metadata": {
    "collapsed": true
   },
   "outputs": [],
   "source": [
    "train_df = train_df.drop('Edu_Level', axis = 1)\n",
    "test_df = test_df.drop('Edu_Level', axis = 1)\n",
    "submission_df = submission_df.drop('Edu_Level', axis = 1)\n",
    "\n"
   ]
  },
  {
   "cell_type": "code",
   "execution_count": null,
   "metadata": {
    "collapsed": true
   },
   "outputs": [],
   "source": []
  },
  {
   "cell_type": "code",
   "execution_count": 532,
   "metadata": {
    "collapsed": true
   },
   "outputs": [],
   "source": [
    "s=[]\n",
    "for i in (train_df['Annual_Income']):\n",
    "    z=(i-80000)/(2050000-80000)\n",
    "    s.append(z)\n",
    "k= pd.Series(s)\n",
    "train_df['Annual_Income']=k.values"
   ]
  },
  {
   "cell_type": "code",
   "execution_count": 533,
   "metadata": {
    "collapsed": true
   },
   "outputs": [],
   "source": [
    "s=[]\n",
    "for i in (test_df['Annual_Income']):\n",
    "    z=(i-80000)/(2240000-80000)\n",
    "    s.append(z)\n",
    "k= pd.Series(s)\n",
    "test_df['Annual_Income']=k.values\n",
    "\n",
    "\n",
    "s=[]\n",
    "for i in (submission_df['Annual_Income']):\n",
    "    z=(i-80000)/(2180000-80000)\n",
    "    s.append(z)\n",
    "k= pd.Series(s)\n",
    "submission_df['Annual_Income']=k.values"
   ]
  },
  {
   "cell_type": "code",
   "execution_count": null,
   "metadata": {
    "collapsed": true
   },
   "outputs": [],
   "source": []
  },
  {
   "cell_type": "code",
   "execution_count": 534,
   "metadata": {
    "collapsed": true
   },
   "outputs": [],
   "source": [
    "s=[]\n",
    "for i in (train_df['CC_Spend']):\n",
    "    z=(i-0)/(240000)\n",
    "    s.append(z)\n",
    "k= pd.Series(s)\n",
    "train_df['CC_Spend']=k.values\n",
    "\n",
    "s=[]\n",
    "for i in (test_df['CC_Spend']):\n",
    "    z=(i-0)/(180000)\n",
    "    s.append(z)\n",
    "k= pd.Series(s)\n",
    "test_df['CC_Spend']=k.values\n",
    "\n",
    "\n",
    "s=[]\n",
    "for i in (submission_df['CC_Spend']):\n",
    "    z=(i-0)/(86000)\n",
    "    s.append(z)\n",
    "k= pd.Series(s)\n",
    "submission_df['CC_Spend']=k.values\n",
    "\n",
    "\n",
    "\n"
   ]
  },
  {
   "cell_type": "code",
   "execution_count": 535,
   "metadata": {
    "collapsed": true
   },
   "outputs": [],
   "source": [
    "s=[]\n",
    "for i in (train_df['OtherLoan_Monthly']):\n",
    "    z=(i-0)/(186000)\n",
    "    s.append(z)\n",
    "k= pd.Series(s)\n",
    "train_df['OtherLoan_Monthly']=k.values\n",
    "\n",
    "\n",
    "s=[]\n",
    "for i in (test_df['OtherLoan_Monthly']):\n",
    "    z=(i-0)/(225000)\n",
    "    s.append(z)\n",
    "k= pd.Series(s)\n",
    "test_df['OtherLoan_Monthly']=k.values\n",
    "\n",
    "\n",
    "s=[]\n",
    "for i in (submission_df['OtherLoan_Monthly']):\n",
    "    z=(i-0)/(61200)\n",
    "    s.append(z)\n",
    "k= pd.Series(s)\n",
    "submission_df['OtherLoan_Monthly']=k.values\n"
   ]
  },
  {
   "cell_type": "code",
   "execution_count": null,
   "metadata": {
    "collapsed": true
   },
   "outputs": [],
   "source": []
  },
  {
   "cell_type": "code",
   "execution_count": 536,
   "metadata": {
    "collapsed": true
   },
   "outputs": [],
   "source": [
    "X_train = train_df.drop(\"PersonalLoan (prediction)\",axis=1)\n",
    "Y_train = train_df[\"PersonalLoan (prediction)\"]\n",
    "X_test  = test_df.drop(\"PersonalLoan\",axis=1).copy()\n",
    "Y_test = test_df['PersonalLoan']"
   ]
  },
  {
   "cell_type": "code",
   "execution_count": null,
   "metadata": {
    "collapsed": true
   },
   "outputs": [],
   "source": []
  },
  {
   "cell_type": "code",
   "execution_count": 537,
   "metadata": {},
   "outputs": [
    {
     "data": {
      "text/plain": [
       "0.95066666666666666"
      ]
     },
     "execution_count": 537,
     "metadata": {},
     "output_type": "execute_result"
    }
   ],
   "source": [
    "logreg = LogisticRegression()\n",
    "logreg.fit(X_train, Y_train)\n",
    "Y_pred = pd.Series(logreg.predict(X_test))\n",
    "logreg.score(X_train,Y_train)"
   ]
  },
  {
   "cell_type": "code",
   "execution_count": null,
   "metadata": {
    "collapsed": true
   },
   "outputs": [],
   "source": []
  },
  {
   "cell_type": "code",
   "execution_count": 538,
   "metadata": {},
   "outputs": [
    {
     "data": {
      "text/plain": [
       "0.98733333333333329"
      ]
     },
     "execution_count": 538,
     "metadata": {},
     "output_type": "execute_result"
    }
   ],
   "source": [
    "random_forest = RandomForestClassifier(n_estimators=100)\n",
    "\n",
    "random_forest.fit(X_train, Y_train)\n",
    "\n",
    "Y_pred = random_forest.predict(X_test)\n",
    "\n",
    "random_forest.score(X_train, Y_train)"
   ]
  },
  {
   "cell_type": "code",
   "execution_count": null,
   "metadata": {
    "collapsed": true
   },
   "outputs": [],
   "source": []
  },
  {
   "cell_type": "code",
   "execution_count": 539,
   "metadata": {},
   "outputs": [
    {
     "data": {
      "text/plain": [
       "0.97199999999999998"
      ]
     },
     "execution_count": 539,
     "metadata": {},
     "output_type": "execute_result"
    }
   ],
   "source": [
    "knn = KNeighborsClassifier(n_neighbors = 3)\n",
    "\n",
    "knn.fit(X_train, Y_train)\n",
    "\n",
    "Y_pred = knn.predict(X_test)\n",
    "\n",
    "knn.score(X_train, Y_train)"
   ]
  },
  {
   "cell_type": "code",
   "execution_count": 540,
   "metadata": {},
   "outputs": [
    {
     "data": {
      "text/plain": [
       "0.95499999999999996"
      ]
     },
     "execution_count": 540,
     "metadata": {},
     "output_type": "execute_result"
    }
   ],
   "source": [
    "svc = SVC()\n",
    "\n",
    "svc.fit(X_train, Y_train)\n",
    "\n",
    "Y_pred = svc.predict(X_test)\n",
    "\n",
    "svc.score(X_train, Y_train)"
   ]
  },
  {
   "cell_type": "code",
   "execution_count": 541,
   "metadata": {
    "collapsed": true
   },
   "outputs": [],
   "source": [
    "drop_elements = ['SavingsID','PersonalLoan']\n",
    "\n",
    "X_train = train_df.drop(\"PersonalLoan (prediction)\",axis=1)\n",
    "Y_train = train_df[\"PersonalLoan (prediction)\"]\n",
    "X_test  = submission_df.drop(drop_elements,axis=1).copy()\n",
    "Y_test = submission_df['PersonalLoan']"
   ]
  },
  {
   "cell_type": "code",
   "execution_count": 542,
   "metadata": {
    "collapsed": true
   },
   "outputs": [],
   "source": [
    "random_forest = RandomForestClassifier(n_estimators=100)\n",
    "\n",
    "random_forest.fit(X_train, Y_train)\n",
    "\n",
    "Y_pred = random_forest.predict(X_test)\n",
    "\n",
    "random_forest.score(X_train, Y_train)\n",
    "\n",
    "\n",
    "submission = pd.DataFrame({\n",
    "        \"SavingsID\": submission_df[\"SavingsID\"],\n",
    "        \"PersonalLoan\": Y_pred\n",
    "    })\n",
    "submission.to_csv('Final.csv', index=False)"
   ]
  },
  {
   "cell_type": "code",
   "execution_count": null,
   "metadata": {
    "collapsed": true
   },
   "outputs": [],
   "source": []
  }
 ],
 "metadata": {
  "kernelspec": {
   "display_name": "Python 3",
   "language": "python",
   "name": "python3"
  },
  "language_info": {
   "codemirror_mode": {
    "name": "ipython",
    "version": 3
   },
   "file_extension": ".py",
   "mimetype": "text/x-python",
   "name": "python",
   "nbconvert_exporter": "python",
   "pygments_lexer": "ipython3",
   "version": "3.6.1"
  }
 },
 "nbformat": 4,
 "nbformat_minor": 2
}
